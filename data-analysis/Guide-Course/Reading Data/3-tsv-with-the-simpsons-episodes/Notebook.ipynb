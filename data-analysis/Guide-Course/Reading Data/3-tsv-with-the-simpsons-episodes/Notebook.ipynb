{
 "cells": [
  {
   "cell_type": "markdown",
   "id": "b1a869e3",
   "metadata": {},
   "source": [
    "## TSV with The Simpsons episodes\n",
    "\n",
    "Read and store in a `simpsons` DataFrame the data within the `simpsons-episodes.tsv` TSV (Tabular Separated Values) file. This file contains information about all The Simpsons episodes.\n",
    "\n",
    "Take a look at the file before you read it into a DataFrame and see what will be necessary to parse it correctly.\n",
    "\n",
    "#### **Instructions**\n",
    "\n",
    "* Use correct separator as data is tabular separated.\n",
    "* Use the following `col_names` list as column names.\n",
    "* Load just `Title`, `Air date`, `Production code` and `IMDB rating`.\n",
    "* Don't load the first empty columns.\n",
    "* Set `Production Code` code as index.\n",
    "* Null values are encoded as `no_val` values, be careful with that when loading the data.\n",
    "* Parse the `Air date` columns as Date."
   ]
  },
  {
   "cell_type": "code",
   "execution_count": 40,
   "id": "234a0a1c",
   "metadata": {},
   "outputs": [],
   "source": [
    "import pandas as pd"
   ]
  },
  {
   "cell_type": "markdown",
   "id": "5de28ca4",
   "metadata": {},
   "source": [
    "In this example we can use the `sep` parameter to specify the separator, which is a tab character (`\\t`), `use_cols` to select the specific columns was expected, `header` set to `None` since this file does not have a header row. Also, we are setting the index column to `Production Code` using the `index_col` parameter and dropping the empty columns with `dropna` method with the `how` parameter set to `all`, because we want to drop columns that are completely empty. Since ther are null values encoded as `no_val`, we can use the `na_values` parameter to specify that `no_val` should be treated as a null value. Finally, we can parse the `Air date` column as a date using the `parse_dates` parameter."
   ]
  },
  {
   "cell_type": "code",
   "execution_count": 75,
   "id": "a594095d",
   "metadata": {},
   "outputs": [
    {
     "name": "stderr",
     "output_type": "stream",
     "text": [
      "C:\\Users\\User\\AppData\\Local\\Temp\\ipykernel_14608\\4063068107.py:4: UserWarning: Could not infer format, so each element will be parsed individually, falling back to `dateutil`. To ensure parsing is consistent and as-expected, please specify a format.\n",
      "  simpsons_df = pd.read_csv('files/simpsons-episodes.tsv', sep='\\t', names=col_names, header=None, usecols=[\"Title\", \"Air date\", \"Production code\", \"IMDB rating\"], index_col=\"Production code\", na_values=\"no_val\",\n"
     ]
    }
   ],
   "source": [
    "col_names = ['Title', 'Air date', 'Production code', 'Season', 'Number in season',\n",
    "             'Number in series', 'US viewers (million)', 'Views', 'IMDB rating']    \n",
    "\n",
    "simpsons_df = pd.read_csv('files/simpsons-episodes.tsv', sep='\\t', names=col_names, header=None, usecols=[\"Title\", \"Air date\", \"Production code\", \"IMDB rating\"], index_col=\"Production code\", na_values=\"no_val\", \n",
    "                            parse_dates=[\"Air date\"], encoding=\"utf-8\",\n",
    "                                ).dropna(how='all')\n"
   ]
  },
  {
   "cell_type": "code",
   "execution_count": 76,
   "id": "4d03ff99",
   "metadata": {},
   "outputs": [
    {
     "data": {
      "text/html": [
       "<div>\n",
       "<style scoped>\n",
       "    .dataframe tbody tr th:only-of-type {\n",
       "        vertical-align: middle;\n",
       "    }\n",
       "\n",
       "    .dataframe tbody tr th {\n",
       "        vertical-align: top;\n",
       "    }\n",
       "\n",
       "    .dataframe thead th {\n",
       "        text-align: right;\n",
       "    }\n",
       "</style>\n",
       "<table border=\"1\" class=\"dataframe\">\n",
       "  <thead>\n",
       "    <tr style=\"text-align: right;\">\n",
       "      <th></th>\n",
       "      <th>Title</th>\n",
       "      <th>Air date</th>\n",
       "      <th>IMDB rating</th>\n",
       "    </tr>\n",
       "    <tr>\n",
       "      <th>Production code</th>\n",
       "      <th></th>\n",
       "      <th></th>\n",
       "      <th></th>\n",
       "    </tr>\n",
       "  </thead>\n",
       "  <tbody>\n",
       "    <tr>\n",
       "      <th>7F01</th>\n",
       "      <td>Two Cars in Every Garage and Three Eyes on Eve...</td>\n",
       "      <td>1990-01-11</td>\n",
       "      <td>8.1</td>\n",
       "    </tr>\n",
       "    <tr>\n",
       "      <th>7F08</th>\n",
       "      <td>NaN</td>\n",
       "      <td>1990-11-15</td>\n",
       "      <td>8.0</td>\n",
       "    </tr>\n",
       "    <tr>\n",
       "      <th>7F06</th>\n",
       "      <td>Bart the Daredevil</td>\n",
       "      <td>1990-06-12</td>\n",
       "      <td>NaN</td>\n",
       "    </tr>\n",
       "    <tr>\n",
       "      <th>NaN</th>\n",
       "      <td>Bart Gets Hit by a Car</td>\n",
       "      <td>1991-10-01</td>\n",
       "      <td>7.8</td>\n",
       "    </tr>\n",
       "    <tr>\n",
       "      <th>7F13</th>\n",
       "      <td>Homer vs. Lisa and the 8th Commandment</td>\n",
       "      <td>1991-07-02</td>\n",
       "      <td>8.0</td>\n",
       "    </tr>\n",
       "    <tr>\n",
       "      <th>7F16</th>\n",
       "      <td>Oh Brother, Where Art Thou?</td>\n",
       "      <td>1991-02-21</td>\n",
       "      <td>8.2</td>\n",
       "    </tr>\n",
       "    <tr>\n",
       "      <th>7F17</th>\n",
       "      <td>Old Money</td>\n",
       "      <td>1991-03-28</td>\n",
       "      <td>7.6</td>\n",
       "    </tr>\n",
       "    <tr>\n",
       "      <th>7F19</th>\n",
       "      <td>Lisa's Substitute</td>\n",
       "      <td>1991-04-25</td>\n",
       "      <td>8.5</td>\n",
       "    </tr>\n",
       "    <tr>\n",
       "      <th>7F22</th>\n",
       "      <td>Blood Feud</td>\n",
       "      <td>1991-11-07</td>\n",
       "      <td>8.0</td>\n",
       "    </tr>\n",
       "    <tr>\n",
       "      <th>8F01</th>\n",
       "      <td>Mr. Lisa Goes to Washington</td>\n",
       "      <td>1991-09-26</td>\n",
       "      <td>7.7</td>\n",
       "    </tr>\n",
       "  </tbody>\n",
       "</table>\n",
       "</div>"
      ],
      "text/plain": [
       "                                                             Title   Air date  \\\n",
       "Production code                                                                 \n",
       "7F01             Two Cars in Every Garage and Three Eyes on Eve... 1990-01-11   \n",
       "7F08                                                           NaN 1990-11-15   \n",
       "7F06                                            Bart the Daredevil 1990-06-12   \n",
       "NaN                                         Bart Gets Hit by a Car 1991-10-01   \n",
       "7F13                        Homer vs. Lisa and the 8th Commandment 1991-07-02   \n",
       "7F16                                   Oh Brother, Where Art Thou? 1991-02-21   \n",
       "7F17                                                     Old Money 1991-03-28   \n",
       "7F19                                             Lisa's Substitute 1991-04-25   \n",
       "7F22                                                    Blood Feud 1991-11-07   \n",
       "8F01                                   Mr. Lisa Goes to Washington 1991-09-26   \n",
       "\n",
       "                 IMDB rating  \n",
       "Production code               \n",
       "7F01                     8.1  \n",
       "7F08                     8.0  \n",
       "7F06                     NaN  \n",
       "NaN                      7.8  \n",
       "7F13                     8.0  \n",
       "7F16                     8.2  \n",
       "7F17                     7.6  \n",
       "7F19                     8.5  \n",
       "7F22                     8.0  \n",
       "8F01                     7.7  "
      ]
     },
     "execution_count": 76,
     "metadata": {},
     "output_type": "execute_result"
    }
   ],
   "source": [
    "simpsons_df.head(10)"
   ]
  },
  {
   "cell_type": "code",
   "execution_count": 69,
   "id": "153f95df",
   "metadata": {},
   "outputs": [
    {
     "data": {
      "text/plain": [
       "Title                  object\n",
       "Air date       datetime64[ns]\n",
       "IMDB rating           float64\n",
       "dtype: object"
      ]
     },
     "execution_count": 69,
     "metadata": {},
     "output_type": "execute_result"
    }
   ],
   "source": [
    "simpsons_df.dtypes"
   ]
  },
  {
   "cell_type": "markdown",
   "id": "801b2139",
   "metadata": {},
   "source": [
    "We can check that the `Air date` column after the parsing date, now haves the rigth data type format has `datetime64[ns]`."
   ]
  }
 ],
 "metadata": {
  "kernelspec": {
   "display_name": "base",
   "language": "python",
   "name": "python3"
  },
  "language_info": {
   "codemirror_mode": {
    "name": "ipython",
    "version": 3
   },
   "file_extension": ".py",
   "mimetype": "text/x-python",
   "name": "python",
   "nbconvert_exporter": "python",
   "pygments_lexer": "ipython3",
   "version": "3.12.7"
  }
 },
 "nbformat": 4,
 "nbformat_minor": 5
}
