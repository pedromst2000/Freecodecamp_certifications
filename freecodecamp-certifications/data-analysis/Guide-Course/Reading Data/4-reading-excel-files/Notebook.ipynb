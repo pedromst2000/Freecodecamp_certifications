{
 "cells": [
  {
   "cell_type": "markdown",
   "id": "0a4d18a0",
   "metadata": {},
   "source": [
    "## Reading Excel files\n",
    "\n",
    "In this lecture we'll learn how to read Excel files (.xlsx) and its sheets into a pandas `DataFrame`s, and how to export that `DataFrame`s to different sheets and Excel files using the pandas `ExcelWriter` and `to_excel` methods."
   ]
  },
  {
   "cell_type": "code",
   "execution_count": 155,
   "id": "5aa8b999",
   "metadata": {},
   "outputs": [],
   "source": [
    "import pandas as pd"
   ]
  },
  {
   "cell_type": "markdown",
   "id": "d1ee1ee9",
   "metadata": {},
   "source": [
    "### **The `read_excel` method**\n",
    "\n",
    "We'll begin with the `read_excel` method, that let us read Excel files into a `DataFrame`.\n",
    "\n",
    "This method supports both XLS and XLSX file extensions from a local filesystem or URL and has a broad set of parameters to configure how the data will be read and parsed. These parameters are very similar to the parameters we saw on previous lectures where we introduced the `read_csv` method. The most common parameters are as follows:\n",
    "\n",
    "* `filepath`: Path of the file to be read.\n",
    "* `sheet_name`: Strings are used for sheet names. Integers are used in zero-indexed sheet positions. Lists of strings/integers are used to request multiple sheets. Specify None to get all sheets.\n",
    "* `header`: Index of the row containing the names of the columns (None if none).\n",
    "* `index_col`: Index of the column or sequence of indexes that should be used as index of rows of the data.\n",
    "* `names`: Sequence containing the names of the columns (used together with header = None).\n",
    "* `skiprows`: Number of rows or sequence of row indexes to ignore in the load.\n",
    "* `na_values`: Sequence of values that, if found in the file, should be treated as NaN.\n",
    "* `dtype`: Dictionary in which the keys will be column names and the values will be types of NumPy to which their content must be converted.\n",
    "* `parse_dates`: Flag that indicates if Python should try to parse data with a format similar to dates as dates. You can enter a list of column names that must be joined for the parsing as a date.\n",
    "* `date_parser`: Function to use to try to parse dates.\n",
    "* `nrows`: Number of rows to read from the beginning of the file.\n",
    "* `skip_footer`: Number of rows to ignore at the end of the file.\n",
    "* `squeeze`: Flag that indicates that if the data read only contains one column the result is a Series instead of a DataFrame.\n",
    "* `thousands`: Character to use to detect the thousands separator.\n",
    "\n",
    "Full `read_excel` documentation can be found here: https://pandas.pydata.org/pandas-docs/stable/reference/api/pandas.read_excel.html.\n",
    "\n",
    "In this case we'll try to read our `products.xlsx` Excel file.\n",
    "\n",
    "This file contains records of products with its price, brand, description and merchant information on different sheets."
   ]
  },
  {
   "cell_type": "markdown",
   "id": "5321bc82",
   "metadata": {},
   "source": [
    "---"
   ]
  },
  {
   "cell_type": "markdown",
   "id": "b957cdc8",
   "metadata": {},
   "source": [
    "### **Reading our first Excel file**\n",
    "\n",
    "Everytime we call `read_excel` method, we'll need to pass an explicit `filepath` parameter indicating the path where our Excel file is.\n",
    "\n",
    "Any valid string path is acceptable. The string could be a URL. Valid URL schemes include HTTP, FTP, S3, and file. For file URLs, a host is expected. A local file could be: `file://localhost/path/to/table.xlsx`."
   ]
  },
  {
   "cell_type": "code",
   "execution_count": 156,
   "id": "0f5bb2ba",
   "metadata": {},
   "outputs": [],
   "source": [
    "excel_df = pd.read_excel('files/products.xlsx')"
   ]
  },
  {
   "cell_type": "code",
   "execution_count": 157,
   "id": "57e48b83",
   "metadata": {},
   "outputs": [
    {
     "data": {
      "text/html": [
       "<div>\n",
       "<style scoped>\n",
       "    .dataframe tbody tr th:only-of-type {\n",
       "        vertical-align: middle;\n",
       "    }\n",
       "\n",
       "    .dataframe tbody tr th {\n",
       "        vertical-align: top;\n",
       "    }\n",
       "\n",
       "    .dataframe thead th {\n",
       "        text-align: right;\n",
       "    }\n",
       "</style>\n",
       "<table border=\"1\" class=\"dataframe\">\n",
       "  <thead>\n",
       "    <tr style=\"text-align: right;\">\n",
       "      <th></th>\n",
       "      <th>product_id</th>\n",
       "      <th>price</th>\n",
       "      <th>merchant_id</th>\n",
       "      <th>brand</th>\n",
       "      <th>name</th>\n",
       "    </tr>\n",
       "  </thead>\n",
       "  <tbody>\n",
       "    <tr>\n",
       "      <th>0</th>\n",
       "      <td>AVphzgbJLJeJML43fA0o</td>\n",
       "      <td>104.99</td>\n",
       "      <td>1001</td>\n",
       "      <td>Sanus</td>\n",
       "      <td>Sanus VLF410B1 10-Inch Super Slim Full-Motion ...</td>\n",
       "    </tr>\n",
       "    <tr>\n",
       "      <th>1</th>\n",
       "      <td>AVpgMuGwLJeJML43KY_c</td>\n",
       "      <td>69.00</td>\n",
       "      <td>1002</td>\n",
       "      <td>Boytone</td>\n",
       "      <td>Boytone - 2500W 2.1-Ch. Home Theater System - ...</td>\n",
       "    </tr>\n",
       "    <tr>\n",
       "      <th>2</th>\n",
       "      <td>AVpe9FXeLJeJML43zHrq</td>\n",
       "      <td>23.99</td>\n",
       "      <td>1001</td>\n",
       "      <td>DENAQ</td>\n",
       "      <td>DENAQ - AC Adapter for TOSHIBA SATELLITE</td>\n",
       "    </tr>\n",
       "    <tr>\n",
       "      <th>3</th>\n",
       "      <td>AVpfVJXu1cnluZ0-iwTT</td>\n",
       "      <td>290.99</td>\n",
       "      <td>1001</td>\n",
       "      <td>DreamWave</td>\n",
       "      <td>DreamWave - Tremor Portable Bluetooth Speaker ...</td>\n",
       "    </tr>\n",
       "    <tr>\n",
       "      <th>4</th>\n",
       "      <td>AVphUeKeilAPnD_x3-Be</td>\n",
       "      <td>244.01</td>\n",
       "      <td>1004</td>\n",
       "      <td>Yamaha</td>\n",
       "      <td>NS-SP1800BL 5.1-Channel Home Theater System (B...</td>\n",
       "    </tr>\n",
       "  </tbody>\n",
       "</table>\n",
       "</div>"
      ],
      "text/plain": [
       "             product_id   price  merchant_id      brand  \\\n",
       "0  AVphzgbJLJeJML43fA0o  104.99         1001      Sanus   \n",
       "1  AVpgMuGwLJeJML43KY_c   69.00         1002    Boytone   \n",
       "2  AVpe9FXeLJeJML43zHrq   23.99         1001      DENAQ   \n",
       "3  AVpfVJXu1cnluZ0-iwTT  290.99         1001  DreamWave   \n",
       "4  AVphUeKeilAPnD_x3-Be  244.01         1004     Yamaha   \n",
       "\n",
       "                                                name  \n",
       "0  Sanus VLF410B1 10-Inch Super Slim Full-Motion ...  \n",
       "1  Boytone - 2500W 2.1-Ch. Home Theater System - ...  \n",
       "2           DENAQ - AC Adapter for TOSHIBA SATELLITE  \n",
       "3  DreamWave - Tremor Portable Bluetooth Speaker ...  \n",
       "4  NS-SP1800BL 5.1-Channel Home Theater System (B...  "
      ]
     },
     "execution_count": 157,
     "metadata": {},
     "output_type": "execute_result"
    }
   ],
   "source": [
    "excel_df.head() # first 5 rows "
   ]
  },
  {
   "cell_type": "markdown",
   "id": "2842d248",
   "metadata": {},
   "source": [
    "---"
   ]
  },
  {
   "cell_type": "markdown",
   "id": "19fe8aa6",
   "metadata": {},
   "source": [
    "### **First row behaviour with `header` parameter**"
   ]
  },
  {
   "cell_type": "markdown",
   "id": "6462d492",
   "metadata": {},
   "source": [
    "The Excel file we're reading has the following columns:\n",
    "\n",
    "* `product_id`\n",
    "* `price`\n",
    "* `merchant_id`\n",
    "* `brand`\n",
    "* `name`\n",
    "\n",
    "The first row (0-index) of the data has that column names, so we keep the implicit `header=0` parameter to let Pandas assign this first row as headers. We can overwrite this behavior defining explicitly the `header` parameter."
   ]
  },
  {
   "cell_type": "code",
   "execution_count": 158,
   "id": "25db9f28",
   "metadata": {},
   "outputs": [
    {
     "data": {
      "text/html": [
       "<div>\n",
       "<style scoped>\n",
       "    .dataframe tbody tr th:only-of-type {\n",
       "        vertical-align: middle;\n",
       "    }\n",
       "\n",
       "    .dataframe tbody tr th {\n",
       "        vertical-align: top;\n",
       "    }\n",
       "\n",
       "    .dataframe thead th {\n",
       "        text-align: right;\n",
       "    }\n",
       "</style>\n",
       "<table border=\"1\" class=\"dataframe\">\n",
       "  <thead>\n",
       "    <tr style=\"text-align: right;\">\n",
       "      <th></th>\n",
       "      <th>0</th>\n",
       "      <th>1</th>\n",
       "      <th>2</th>\n",
       "      <th>3</th>\n",
       "      <th>4</th>\n",
       "    </tr>\n",
       "  </thead>\n",
       "  <tbody>\n",
       "    <tr>\n",
       "      <th>0</th>\n",
       "      <td>product_id</td>\n",
       "      <td>price</td>\n",
       "      <td>merchant_id</td>\n",
       "      <td>brand</td>\n",
       "      <td>name</td>\n",
       "    </tr>\n",
       "    <tr>\n",
       "      <th>1</th>\n",
       "      <td>AVphzgbJLJeJML43fA0o</td>\n",
       "      <td>104.99</td>\n",
       "      <td>1001</td>\n",
       "      <td>Sanus</td>\n",
       "      <td>Sanus VLF410B1 10-Inch Super Slim Full-Motion ...</td>\n",
       "    </tr>\n",
       "    <tr>\n",
       "      <th>2</th>\n",
       "      <td>AVpgMuGwLJeJML43KY_c</td>\n",
       "      <td>69</td>\n",
       "      <td>1002</td>\n",
       "      <td>Boytone</td>\n",
       "      <td>Boytone - 2500W 2.1-Ch. Home Theater System - ...</td>\n",
       "    </tr>\n",
       "    <tr>\n",
       "      <th>3</th>\n",
       "      <td>AVpe9FXeLJeJML43zHrq</td>\n",
       "      <td>23.99</td>\n",
       "      <td>1001</td>\n",
       "      <td>DENAQ</td>\n",
       "      <td>DENAQ - AC Adapter for TOSHIBA SATELLITE</td>\n",
       "    </tr>\n",
       "    <tr>\n",
       "      <th>4</th>\n",
       "      <td>AVpfVJXu1cnluZ0-iwTT</td>\n",
       "      <td>290.99</td>\n",
       "      <td>1001</td>\n",
       "      <td>DreamWave</td>\n",
       "      <td>DreamWave - Tremor Portable Bluetooth Speaker ...</td>\n",
       "    </tr>\n",
       "    <tr>\n",
       "      <th>...</th>\n",
       "      <td>...</td>\n",
       "      <td>...</td>\n",
       "      <td>...</td>\n",
       "      <td>...</td>\n",
       "      <td>...</td>\n",
       "    </tr>\n",
       "    <tr>\n",
       "      <th>1241</th>\n",
       "      <td>AVphFybdLJeJML43Wnza</td>\n",
       "      <td>64.95</td>\n",
       "      <td>1110</td>\n",
       "      <td>JBL</td>\n",
       "      <td>JBL - 6 x 9\" 3-Way Car Speakers with Polypropy...</td>\n",
       "    </tr>\n",
       "    <tr>\n",
       "      <th>1242</th>\n",
       "      <td>AVpe_qIa1cnluZ0-bjrN</td>\n",
       "      <td>871.06</td>\n",
       "      <td>1002</td>\n",
       "      <td>HP</td>\n",
       "      <td>HP - ProBook 14 Laptop - Intel Core i5 - 4GB M...</td>\n",
       "    </tr>\n",
       "    <tr>\n",
       "      <th>1243</th>\n",
       "      <td>AVphibxI1cnluZ0-DpxG</td>\n",
       "      <td>74.95</td>\n",
       "      <td>1238</td>\n",
       "      <td>Magellan</td>\n",
       "      <td>Magellan Roadmate 5322-LM 5 Touchscreen Portab...</td>\n",
       "    </tr>\n",
       "    <tr>\n",
       "      <th>1244</th>\n",
       "      <td>AVpgrtW3ilAPnD_xv67M</td>\n",
       "      <td>294.35</td>\n",
       "      <td>1239</td>\n",
       "      <td>Pyle Pro</td>\n",
       "      <td>PMX840BT Bluetooth 8-Channel 800-Watt Powered ...</td>\n",
       "    </tr>\n",
       "    <tr>\n",
       "      <th>1245</th>\n",
       "      <td>AVpgibRDLJeJML43PTZX</td>\n",
       "      <td>129.99</td>\n",
       "      <td>1001</td>\n",
       "      <td>naxa</td>\n",
       "      <td>naxa - 2.1-Channel Soundbar with 50-Watt Digit...</td>\n",
       "    </tr>\n",
       "  </tbody>\n",
       "</table>\n",
       "<p>1246 rows × 5 columns</p>\n",
       "</div>"
      ],
      "text/plain": [
       "                         0       1            2          3  \\\n",
       "0               product_id   price  merchant_id      brand   \n",
       "1     AVphzgbJLJeJML43fA0o  104.99         1001      Sanus   \n",
       "2     AVpgMuGwLJeJML43KY_c      69         1002    Boytone   \n",
       "3     AVpe9FXeLJeJML43zHrq   23.99         1001      DENAQ   \n",
       "4     AVpfVJXu1cnluZ0-iwTT  290.99         1001  DreamWave   \n",
       "...                    ...     ...          ...        ...   \n",
       "1241  AVphFybdLJeJML43Wnza   64.95         1110        JBL   \n",
       "1242  AVpe_qIa1cnluZ0-bjrN  871.06         1002         HP   \n",
       "1243  AVphibxI1cnluZ0-DpxG   74.95         1238   Magellan   \n",
       "1244  AVpgrtW3ilAPnD_xv67M  294.35         1239   Pyle Pro   \n",
       "1245  AVpgibRDLJeJML43PTZX  129.99         1001       naxa   \n",
       "\n",
       "                                                      4  \n",
       "0                                                  name  \n",
       "1     Sanus VLF410B1 10-Inch Super Slim Full-Motion ...  \n",
       "2     Boytone - 2500W 2.1-Ch. Home Theater System - ...  \n",
       "3              DENAQ - AC Adapter for TOSHIBA SATELLITE  \n",
       "4     DreamWave - Tremor Portable Bluetooth Speaker ...  \n",
       "...                                                 ...  \n",
       "1241  JBL - 6 x 9\" 3-Way Car Speakers with Polypropy...  \n",
       "1242  HP - ProBook 14 Laptop - Intel Core i5 - 4GB M...  \n",
       "1243  Magellan Roadmate 5322-LM 5 Touchscreen Portab...  \n",
       "1244  PMX840BT Bluetooth 8-Channel 800-Watt Powered ...  \n",
       "1245  naxa - 2.1-Channel Soundbar with 50-Watt Digit...  \n",
       "\n",
       "[1246 rows x 5 columns]"
      ]
     },
     "execution_count": 158,
     "metadata": {},
     "output_type": "execute_result"
    }
   ],
   "source": [
    "pd.read_excel('files/products.xlsx', header=None) # no header"
   ]
  },
  {
   "cell_type": "markdown",
   "id": "ee373424",
   "metadata": {},
   "source": [
    "---"
   ]
  },
  {
   "cell_type": "markdown",
   "id": "aa34bbd6",
   "metadata": {},
   "source": [
    "### **Adding index to our data using `index_col` parameter**\n",
    "\n",
    "By default, pandas will automatically assign a numeric autoincremental index or row label starting with zero.\n",
    "\n",
    "You may want to leave the default index as such if your data doesn’t have a column with unique values that can serve as a better index.\n",
    "\n",
    "In case there is a column that you feel would serve as a better index, you can override the default behavior by setting `index_col` property to a column. It takes a numeric value or a string for setting a single column as index or a list of numeric values for creating a multi-index.\n",
    "\n",
    "In our data, we are choosing the first column, `product_id`, as index (index=0) by passing zero to the `index_col` argument."
   ]
  },
  {
   "cell_type": "code",
   "execution_count": 159,
   "id": "654c3bd3",
   "metadata": {},
   "outputs": [],
   "source": [
    "excel_df = pd.read_excel('files/products.xlsx', index_col=1) "
   ]
  },
  {
   "cell_type": "code",
   "execution_count": 160,
   "id": "e11d29b2",
   "metadata": {},
   "outputs": [
    {
     "data": {
      "text/html": [
       "<div>\n",
       "<style scoped>\n",
       "    .dataframe tbody tr th:only-of-type {\n",
       "        vertical-align: middle;\n",
       "    }\n",
       "\n",
       "    .dataframe tbody tr th {\n",
       "        vertical-align: top;\n",
       "    }\n",
       "\n",
       "    .dataframe thead th {\n",
       "        text-align: right;\n",
       "    }\n",
       "</style>\n",
       "<table border=\"1\" class=\"dataframe\">\n",
       "  <thead>\n",
       "    <tr style=\"text-align: right;\">\n",
       "      <th></th>\n",
       "      <th>product_id</th>\n",
       "      <th>merchant_id</th>\n",
       "      <th>brand</th>\n",
       "      <th>name</th>\n",
       "    </tr>\n",
       "    <tr>\n",
       "      <th>price</th>\n",
       "      <th></th>\n",
       "      <th></th>\n",
       "      <th></th>\n",
       "      <th></th>\n",
       "    </tr>\n",
       "  </thead>\n",
       "  <tbody>\n",
       "    <tr>\n",
       "      <th>104.99</th>\n",
       "      <td>AVphzgbJLJeJML43fA0o</td>\n",
       "      <td>1001</td>\n",
       "      <td>Sanus</td>\n",
       "      <td>Sanus VLF410B1 10-Inch Super Slim Full-Motion ...</td>\n",
       "    </tr>\n",
       "    <tr>\n",
       "      <th>69.00</th>\n",
       "      <td>AVpgMuGwLJeJML43KY_c</td>\n",
       "      <td>1002</td>\n",
       "      <td>Boytone</td>\n",
       "      <td>Boytone - 2500W 2.1-Ch. Home Theater System - ...</td>\n",
       "    </tr>\n",
       "    <tr>\n",
       "      <th>23.99</th>\n",
       "      <td>AVpe9FXeLJeJML43zHrq</td>\n",
       "      <td>1001</td>\n",
       "      <td>DENAQ</td>\n",
       "      <td>DENAQ - AC Adapter for TOSHIBA SATELLITE</td>\n",
       "    </tr>\n",
       "    <tr>\n",
       "      <th>290.99</th>\n",
       "      <td>AVpfVJXu1cnluZ0-iwTT</td>\n",
       "      <td>1001</td>\n",
       "      <td>DreamWave</td>\n",
       "      <td>DreamWave - Tremor Portable Bluetooth Speaker ...</td>\n",
       "    </tr>\n",
       "    <tr>\n",
       "      <th>244.01</th>\n",
       "      <td>AVphUeKeilAPnD_x3-Be</td>\n",
       "      <td>1004</td>\n",
       "      <td>Yamaha</td>\n",
       "      <td>NS-SP1800BL 5.1-Channel Home Theater System (B...</td>\n",
       "    </tr>\n",
       "  </tbody>\n",
       "</table>\n",
       "</div>"
      ],
      "text/plain": [
       "                  product_id  merchant_id      brand  \\\n",
       "price                                                  \n",
       "104.99  AVphzgbJLJeJML43fA0o         1001      Sanus   \n",
       "69.00   AVpgMuGwLJeJML43KY_c         1002    Boytone   \n",
       "23.99   AVpe9FXeLJeJML43zHrq         1001      DENAQ   \n",
       "290.99  AVpfVJXu1cnluZ0-iwTT         1001  DreamWave   \n",
       "244.01  AVphUeKeilAPnD_x3-Be         1004     Yamaha   \n",
       "\n",
       "                                                     name  \n",
       "price                                                      \n",
       "104.99  Sanus VLF410B1 10-Inch Super Slim Full-Motion ...  \n",
       "69.00   Boytone - 2500W 2.1-Ch. Home Theater System - ...  \n",
       "23.99            DENAQ - AC Adapter for TOSHIBA SATELLITE  \n",
       "290.99  DreamWave - Tremor Portable Bluetooth Speaker ...  \n",
       "244.01  NS-SP1800BL 5.1-Channel Home Theater System (B...  "
      ]
     },
     "execution_count": 160,
     "metadata": {},
     "output_type": "execute_result"
    }
   ],
   "source": [
    "excel_df.head()"
   ]
  },
  {
   "cell_type": "markdown",
   "id": "1f81eecc",
   "metadata": {},
   "source": [
    "---"
   ]
  },
  {
   "cell_type": "markdown",
   "id": "aa3d3e94",
   "metadata": {},
   "source": [
    "### **Selecting specific sheets**\n",
    "\n",
    "Excel files quite often have multiple sheets and the ability to read a specific sheet or all of them is very important. To make this easy, the pandas `read_excel` method takes an argument called `sheet_name` that tells pandas which sheet to read in the data from.\n",
    "\n",
    "For this, you can either use the sheet name or the sheet number. Sheet numbers start with zero. The first sheet will be the one loaded by default. You can change sheet by specifying `sheet_name` parameter."
   ]
  },
  {
   "cell_type": "code",
   "execution_count": 161,
   "id": "a4d7ccde",
   "metadata": {},
   "outputs": [],
   "source": [
    "products_sheet_df = pd.read_excel('files/products.xlsx', sheet_name='Products', index_col=\"merchant_id\")"
   ]
  },
  {
   "cell_type": "code",
   "execution_count": 162,
   "id": "e0e6576e",
   "metadata": {},
   "outputs": [
    {
     "data": {
      "text/html": [
       "<div>\n",
       "<style scoped>\n",
       "    .dataframe tbody tr th:only-of-type {\n",
       "        vertical-align: middle;\n",
       "    }\n",
       "\n",
       "    .dataframe tbody tr th {\n",
       "        vertical-align: top;\n",
       "    }\n",
       "\n",
       "    .dataframe thead th {\n",
       "        text-align: right;\n",
       "    }\n",
       "</style>\n",
       "<table border=\"1\" class=\"dataframe\">\n",
       "  <thead>\n",
       "    <tr style=\"text-align: right;\">\n",
       "      <th></th>\n",
       "      <th>product_id</th>\n",
       "      <th>price</th>\n",
       "      <th>brand</th>\n",
       "      <th>name</th>\n",
       "    </tr>\n",
       "    <tr>\n",
       "      <th>merchant_id</th>\n",
       "      <th></th>\n",
       "      <th></th>\n",
       "      <th></th>\n",
       "      <th></th>\n",
       "    </tr>\n",
       "  </thead>\n",
       "  <tbody>\n",
       "    <tr>\n",
       "      <th>1001</th>\n",
       "      <td>AVphzgbJLJeJML43fA0o</td>\n",
       "      <td>104.99</td>\n",
       "      <td>Sanus</td>\n",
       "      <td>Sanus VLF410B1 10-Inch Super Slim Full-Motion ...</td>\n",
       "    </tr>\n",
       "    <tr>\n",
       "      <th>1002</th>\n",
       "      <td>AVpgMuGwLJeJML43KY_c</td>\n",
       "      <td>69.00</td>\n",
       "      <td>Boytone</td>\n",
       "      <td>Boytone - 2500W 2.1-Ch. Home Theater System - ...</td>\n",
       "    </tr>\n",
       "    <tr>\n",
       "      <th>1001</th>\n",
       "      <td>AVpe9FXeLJeJML43zHrq</td>\n",
       "      <td>23.99</td>\n",
       "      <td>DENAQ</td>\n",
       "      <td>DENAQ - AC Adapter for TOSHIBA SATELLITE</td>\n",
       "    </tr>\n",
       "    <tr>\n",
       "      <th>1001</th>\n",
       "      <td>AVpfVJXu1cnluZ0-iwTT</td>\n",
       "      <td>290.99</td>\n",
       "      <td>DreamWave</td>\n",
       "      <td>DreamWave - Tremor Portable Bluetooth Speaker ...</td>\n",
       "    </tr>\n",
       "    <tr>\n",
       "      <th>1004</th>\n",
       "      <td>AVphUeKeilAPnD_x3-Be</td>\n",
       "      <td>244.01</td>\n",
       "      <td>Yamaha</td>\n",
       "      <td>NS-SP1800BL 5.1-Channel Home Theater System (B...</td>\n",
       "    </tr>\n",
       "  </tbody>\n",
       "</table>\n",
       "</div>"
      ],
      "text/plain": [
       "                       product_id   price      brand  \\\n",
       "merchant_id                                            \n",
       "1001         AVphzgbJLJeJML43fA0o  104.99      Sanus   \n",
       "1002         AVpgMuGwLJeJML43KY_c   69.00    Boytone   \n",
       "1001         AVpe9FXeLJeJML43zHrq   23.99      DENAQ   \n",
       "1001         AVpfVJXu1cnluZ0-iwTT  290.99  DreamWave   \n",
       "1004         AVphUeKeilAPnD_x3-Be  244.01     Yamaha   \n",
       "\n",
       "                                                          name  \n",
       "merchant_id                                                     \n",
       "1001         Sanus VLF410B1 10-Inch Super Slim Full-Motion ...  \n",
       "1002         Boytone - 2500W 2.1-Ch. Home Theater System - ...  \n",
       "1001                  DENAQ - AC Adapter for TOSHIBA SATELLITE  \n",
       "1001         DreamWave - Tremor Portable Bluetooth Speaker ...  \n",
       "1004         NS-SP1800BL 5.1-Channel Home Theater System (B...  "
      ]
     },
     "execution_count": 162,
     "metadata": {},
     "output_type": "execute_result"
    }
   ],
   "source": [
    "products_sheet_df.head()    "
   ]
  },
  {
   "cell_type": "code",
   "execution_count": 163,
   "id": "d637ce4b",
   "metadata": {},
   "outputs": [],
   "source": [
    "merchants_sheet = pd.read_excel('files/products.xlsx', sheet_name='Merchants', index_col=\"merchant_id\")"
   ]
  },
  {
   "cell_type": "code",
   "execution_count": 164,
   "id": "08a10da5",
   "metadata": {},
   "outputs": [
    {
     "data": {
      "text/html": [
       "<div>\n",
       "<style scoped>\n",
       "    .dataframe tbody tr th:only-of-type {\n",
       "        vertical-align: middle;\n",
       "    }\n",
       "\n",
       "    .dataframe tbody tr th {\n",
       "        vertical-align: top;\n",
       "    }\n",
       "\n",
       "    .dataframe thead th {\n",
       "        text-align: right;\n",
       "    }\n",
       "</style>\n",
       "<table border=\"1\" class=\"dataframe\">\n",
       "  <thead>\n",
       "    <tr style=\"text-align: right;\">\n",
       "      <th></th>\n",
       "      <th>merchant</th>\n",
       "    </tr>\n",
       "    <tr>\n",
       "      <th>merchant_id</th>\n",
       "      <th></th>\n",
       "    </tr>\n",
       "  </thead>\n",
       "  <tbody>\n",
       "    <tr>\n",
       "      <th>1236</th>\n",
       "      <td>PRIMESELLER</td>\n",
       "    </tr>\n",
       "    <tr>\n",
       "      <th>1237</th>\n",
       "      <td>Spy Tec</td>\n",
       "    </tr>\n",
       "    <tr>\n",
       "      <th>1238</th>\n",
       "      <td>Action Gear</td>\n",
       "    </tr>\n",
       "    <tr>\n",
       "      <th>1239</th>\n",
       "      <td>Overstock.com</td>\n",
       "    </tr>\n",
       "    <tr>\n",
       "      <th>1240</th>\n",
       "      <td>unknown</td>\n",
       "    </tr>\n",
       "  </tbody>\n",
       "</table>\n",
       "</div>"
      ],
      "text/plain": [
       "                  merchant\n",
       "merchant_id               \n",
       "1236           PRIMESELLER\n",
       "1237               Spy Tec\n",
       "1238           Action Gear\n",
       "1239         Overstock.com\n",
       "1240               unknown"
      ]
     },
     "execution_count": 164,
     "metadata": {},
     "output_type": "execute_result"
    }
   ],
   "source": [
    "merchants_sheet.tail() # last 5 rows"
   ]
  },
  {
   "cell_type": "markdown",
   "id": "0b889a52",
   "metadata": {},
   "source": [
    "Try open the file `products.xlsx` in Excel and check the names of the sheets. There are two sheets: `Products` and `Merchants`."
   ]
  },
  {
   "cell_type": "markdown",
   "id": "228bee22",
   "metadata": {},
   "source": [
    "---"
   ]
  },
  {
   "cell_type": "markdown",
   "id": "2c49a73e",
   "metadata": {},
   "source": [
    "### **The `ExcelFile` class**\n",
    "\n",
    "Another approach on reading Excel data is using the `ExcelFile` class for parsing tabular Excel sheets into `DataFrame` objects.\n",
    "\n",
    "This `ExcelFile` class will let us work with sheets easily, and will be faster than the previous `read_excel` method."
   ]
  },
  {
   "cell_type": "code",
   "execution_count": 165,
   "id": "4daed80e",
   "metadata": {},
   "outputs": [],
   "source": [
    "excel_file = pd.ExcelFile('files/products.xlsx')"
   ]
  },
  {
   "cell_type": "markdown",
   "id": "55f0817b",
   "metadata": {},
   "source": [
    "We can now explore the sheets on that Excel file with `sheet_names`:"
   ]
  },
  {
   "cell_type": "code",
   "execution_count": 166,
   "id": "e6da43f2",
   "metadata": {},
   "outputs": [
    {
     "data": {
      "text/plain": [
       "['Products', 'Descriptions', 'Merchants']"
      ]
     },
     "execution_count": 166,
     "metadata": {},
     "output_type": "execute_result"
    }
   ],
   "source": [
    "excel_file.sheet_names # all sheet names of the Excel file"
   ]
  },
  {
   "cell_type": "markdown",
   "id": "a642011e",
   "metadata": {},
   "source": [
    "And parse specified sheet(s) into a Pandas `DataFrame` using ExcelFile's `parse()` method.\n",
    "\n",
    "Everytime we call `parse()` method, we'll need to pass an explicit `sheet_name` parameter indicating which sheet from the Excel file we want to be parsed. The first sheet will be parsed by default."
   ]
  },
  {
   "cell_type": "code",
   "execution_count": 167,
   "id": "c80188de",
   "metadata": {},
   "outputs": [],
   "source": [
    "products_parse = excel_file.parse('Products', index_col=\"product_id\", header=0) # parse the Products sheet"
   ]
  },
  {
   "cell_type": "code",
   "execution_count": 168,
   "id": "80a012ca",
   "metadata": {},
   "outputs": [
    {
     "data": {
      "text/html": [
       "<div>\n",
       "<style scoped>\n",
       "    .dataframe tbody tr th:only-of-type {\n",
       "        vertical-align: middle;\n",
       "    }\n",
       "\n",
       "    .dataframe tbody tr th {\n",
       "        vertical-align: top;\n",
       "    }\n",
       "\n",
       "    .dataframe thead th {\n",
       "        text-align: right;\n",
       "    }\n",
       "</style>\n",
       "<table border=\"1\" class=\"dataframe\">\n",
       "  <thead>\n",
       "    <tr style=\"text-align: right;\">\n",
       "      <th></th>\n",
       "      <th>price</th>\n",
       "      <th>merchant_id</th>\n",
       "      <th>brand</th>\n",
       "      <th>name</th>\n",
       "    </tr>\n",
       "    <tr>\n",
       "      <th>product_id</th>\n",
       "      <th></th>\n",
       "      <th></th>\n",
       "      <th></th>\n",
       "      <th></th>\n",
       "    </tr>\n",
       "  </thead>\n",
       "  <tbody>\n",
       "    <tr>\n",
       "      <th>AVphzgbJLJeJML43fA0o</th>\n",
       "      <td>104.99</td>\n",
       "      <td>1001</td>\n",
       "      <td>Sanus</td>\n",
       "      <td>Sanus VLF410B1 10-Inch Super Slim Full-Motion ...</td>\n",
       "    </tr>\n",
       "    <tr>\n",
       "      <th>AVpgMuGwLJeJML43KY_c</th>\n",
       "      <td>69.00</td>\n",
       "      <td>1002</td>\n",
       "      <td>Boytone</td>\n",
       "      <td>Boytone - 2500W 2.1-Ch. Home Theater System - ...</td>\n",
       "    </tr>\n",
       "    <tr>\n",
       "      <th>AVpe9FXeLJeJML43zHrq</th>\n",
       "      <td>23.99</td>\n",
       "      <td>1001</td>\n",
       "      <td>DENAQ</td>\n",
       "      <td>DENAQ - AC Adapter for TOSHIBA SATELLITE</td>\n",
       "    </tr>\n",
       "    <tr>\n",
       "      <th>AVpfVJXu1cnluZ0-iwTT</th>\n",
       "      <td>290.99</td>\n",
       "      <td>1001</td>\n",
       "      <td>DreamWave</td>\n",
       "      <td>DreamWave - Tremor Portable Bluetooth Speaker ...</td>\n",
       "    </tr>\n",
       "    <tr>\n",
       "      <th>AVphUeKeilAPnD_x3-Be</th>\n",
       "      <td>244.01</td>\n",
       "      <td>1004</td>\n",
       "      <td>Yamaha</td>\n",
       "      <td>NS-SP1800BL 5.1-Channel Home Theater System (B...</td>\n",
       "    </tr>\n",
       "  </tbody>\n",
       "</table>\n",
       "</div>"
      ],
      "text/plain": [
       "                       price  merchant_id      brand  \\\n",
       "product_id                                             \n",
       "AVphzgbJLJeJML43fA0o  104.99         1001      Sanus   \n",
       "AVpgMuGwLJeJML43KY_c   69.00         1002    Boytone   \n",
       "AVpe9FXeLJeJML43zHrq   23.99         1001      DENAQ   \n",
       "AVpfVJXu1cnluZ0-iwTT  290.99         1001  DreamWave   \n",
       "AVphUeKeilAPnD_x3-Be  244.01         1004     Yamaha   \n",
       "\n",
       "                                                                   name  \n",
       "product_id                                                               \n",
       "AVphzgbJLJeJML43fA0o  Sanus VLF410B1 10-Inch Super Slim Full-Motion ...  \n",
       "AVpgMuGwLJeJML43KY_c  Boytone - 2500W 2.1-Ch. Home Theater System - ...  \n",
       "AVpe9FXeLJeJML43zHrq           DENAQ - AC Adapter for TOSHIBA SATELLITE  \n",
       "AVpfVJXu1cnluZ0-iwTT  DreamWave - Tremor Portable Bluetooth Speaker ...  \n",
       "AVphUeKeilAPnD_x3-Be  NS-SP1800BL 5.1-Channel Home Theater System (B...  "
      ]
     },
     "execution_count": 168,
     "metadata": {},
     "output_type": "execute_result"
    }
   ],
   "source": [
    "products_parse.head() # first 5 rows"
   ]
  },
  {
   "cell_type": "code",
   "execution_count": 169,
   "id": "7342c40f",
   "metadata": {},
   "outputs": [
    {
     "data": {
      "text/plain": [
       "price          float64\n",
       "merchant_id      int64\n",
       "brand           object\n",
       "name            object\n",
       "dtype: object"
      ]
     },
     "execution_count": 169,
     "metadata": {},
     "output_type": "execute_result"
    }
   ],
   "source": [
    "products_parse.dtypes"
   ]
  },
  {
   "cell_type": "code",
   "execution_count": 170,
   "id": "c1a21cb6",
   "metadata": {},
   "outputs": [],
   "source": [
    "merchants_parse = excel_file.parse('Merchants', index_col=\"merchant_id\", header=0) # parse the Merchants sheet "
   ]
  },
  {
   "cell_type": "code",
   "execution_count": 171,
   "id": "a2040e66",
   "metadata": {},
   "outputs": [
    {
     "data": {
      "text/html": [
       "<div>\n",
       "<style scoped>\n",
       "    .dataframe tbody tr th:only-of-type {\n",
       "        vertical-align: middle;\n",
       "    }\n",
       "\n",
       "    .dataframe tbody tr th {\n",
       "        vertical-align: top;\n",
       "    }\n",
       "\n",
       "    .dataframe thead th {\n",
       "        text-align: right;\n",
       "    }\n",
       "</style>\n",
       "<table border=\"1\" class=\"dataframe\">\n",
       "  <thead>\n",
       "    <tr style=\"text-align: right;\">\n",
       "      <th></th>\n",
       "      <th>merchant</th>\n",
       "    </tr>\n",
       "    <tr>\n",
       "      <th>merchant_id</th>\n",
       "      <th></th>\n",
       "    </tr>\n",
       "  </thead>\n",
       "  <tbody>\n",
       "    <tr>\n",
       "      <th>1001</th>\n",
       "      <td>Bestbuy.com</td>\n",
       "    </tr>\n",
       "    <tr>\n",
       "      <th>1002</th>\n",
       "      <td>Walmart.com</td>\n",
       "    </tr>\n",
       "    <tr>\n",
       "      <th>1003</th>\n",
       "      <td>Bestbuy.com</td>\n",
       "    </tr>\n",
       "  </tbody>\n",
       "</table>\n",
       "</div>"
      ],
      "text/plain": [
       "                merchant\n",
       "merchant_id             \n",
       "1001         Bestbuy.com\n",
       "1002         Walmart.com\n",
       "1003         Bestbuy.com"
      ]
     },
     "execution_count": 171,
     "metadata": {},
     "output_type": "execute_result"
    }
   ],
   "source": [
    "merchants_parse.head(3) # first 3 rows"
   ]
  },
  {
   "cell_type": "code",
   "execution_count": 172,
   "id": "96f8fbcc",
   "metadata": {},
   "outputs": [
    {
     "data": {
      "text/plain": [
       "merchant    object\n",
       "dtype: object"
      ]
     },
     "execution_count": 172,
     "metadata": {},
     "output_type": "execute_result"
    }
   ],
   "source": [
    "merchants_parse.dtypes"
   ]
  },
  {
   "cell_type": "markdown",
   "id": "72475851",
   "metadata": {},
   "source": [
    "---"
   ]
  },
  {
   "cell_type": "markdown",
   "id": "22147a27",
   "metadata": {},
   "source": [
    "### **Save to Excel file**\n",
    "\n",
    "Finally we can save our `DataFrame` as a Excel file.\n",
    "\n",
    "First let´s try saving a hardcoded `DataFrame` to a new Excel file. We can use the `to_excel()` method to do this."
   ]
  },
  {
   "cell_type": "code",
   "execution_count": 173,
   "id": "6bdbe7ec",
   "metadata": {},
   "outputs": [],
   "source": [
    "columns_names = ['book_id', 'title', 'author', 'price', 'quantity']\n",
    "\n",
    "books_df = pd.DataFrame(columns=columns_names, \n",
    "                         data=[\n",
    "                            [1, 'The Great Gatsby', 'F. Scott Fitzgerald', 10.99, 3],\n",
    "                            [2, 'To Kill a Mockingbird', 'Harper Lee', 7.99, 5],\n",
    "                            [3, '1984', 'George Orwell', 8.99, 2],\n",
    "                            [4, 'Pride and Prejudice', 'Jane Austen', 6.99, 4],\n",
    "                            [5, 'The Catcher in the Rye', 'J.D. Salinger', 9.99, 1]\n",
    "                        ]\n",
    "                        ).set_index('book_id')"
   ]
  },
  {
   "cell_type": "code",
   "execution_count": 174,
   "id": "86ff8ec1",
   "metadata": {},
   "outputs": [
    {
     "data": {
      "text/html": [
       "<div>\n",
       "<style scoped>\n",
       "    .dataframe tbody tr th:only-of-type {\n",
       "        vertical-align: middle;\n",
       "    }\n",
       "\n",
       "    .dataframe tbody tr th {\n",
       "        vertical-align: top;\n",
       "    }\n",
       "\n",
       "    .dataframe thead th {\n",
       "        text-align: right;\n",
       "    }\n",
       "</style>\n",
       "<table border=\"1\" class=\"dataframe\">\n",
       "  <thead>\n",
       "    <tr style=\"text-align: right;\">\n",
       "      <th></th>\n",
       "      <th>title</th>\n",
       "      <th>author</th>\n",
       "      <th>price</th>\n",
       "      <th>quantity</th>\n",
       "    </tr>\n",
       "    <tr>\n",
       "      <th>book_id</th>\n",
       "      <th></th>\n",
       "      <th></th>\n",
       "      <th></th>\n",
       "      <th></th>\n",
       "    </tr>\n",
       "  </thead>\n",
       "  <tbody>\n",
       "    <tr>\n",
       "      <th>1</th>\n",
       "      <td>The Great Gatsby</td>\n",
       "      <td>F. Scott Fitzgerald</td>\n",
       "      <td>10.99</td>\n",
       "      <td>3</td>\n",
       "    </tr>\n",
       "    <tr>\n",
       "      <th>2</th>\n",
       "      <td>To Kill a Mockingbird</td>\n",
       "      <td>Harper Lee</td>\n",
       "      <td>7.99</td>\n",
       "      <td>5</td>\n",
       "    </tr>\n",
       "    <tr>\n",
       "      <th>3</th>\n",
       "      <td>1984</td>\n",
       "      <td>George Orwell</td>\n",
       "      <td>8.99</td>\n",
       "      <td>2</td>\n",
       "    </tr>\n",
       "    <tr>\n",
       "      <th>4</th>\n",
       "      <td>Pride and Prejudice</td>\n",
       "      <td>Jane Austen</td>\n",
       "      <td>6.99</td>\n",
       "      <td>4</td>\n",
       "    </tr>\n",
       "    <tr>\n",
       "      <th>5</th>\n",
       "      <td>The Catcher in the Rye</td>\n",
       "      <td>J.D. Salinger</td>\n",
       "      <td>9.99</td>\n",
       "      <td>1</td>\n",
       "    </tr>\n",
       "  </tbody>\n",
       "</table>\n",
       "</div>"
      ],
      "text/plain": [
       "                          title               author  price  quantity\n",
       "book_id                                                              \n",
       "1              The Great Gatsby  F. Scott Fitzgerald  10.99         3\n",
       "2         To Kill a Mockingbird           Harper Lee   7.99         5\n",
       "3                          1984        George Orwell   8.99         2\n",
       "4           Pride and Prejudice          Jane Austen   6.99         4\n",
       "5        The Catcher in the Rye        J.D. Salinger   9.99         1"
      ]
     },
     "execution_count": 174,
     "metadata": {},
     "output_type": "execute_result"
    }
   ],
   "source": [
    "books_df"
   ]
  },
  {
   "cell_type": "code",
   "execution_count": 175,
   "id": "6e31e5e5",
   "metadata": {},
   "outputs": [],
   "source": [
    "books_df.to_excel('files/books.xlsx', sheet_name=\"books\") # save to Excel file"
   ]
  },
  {
   "cell_type": "code",
   "execution_count": 176,
   "id": "d9ecff55",
   "metadata": {},
   "outputs": [
    {
     "data": {
      "text/html": [
       "<div>\n",
       "<style scoped>\n",
       "    .dataframe tbody tr th:only-of-type {\n",
       "        vertical-align: middle;\n",
       "    }\n",
       "\n",
       "    .dataframe tbody tr th {\n",
       "        vertical-align: top;\n",
       "    }\n",
       "\n",
       "    .dataframe thead th {\n",
       "        text-align: right;\n",
       "    }\n",
       "</style>\n",
       "<table border=\"1\" class=\"dataframe\">\n",
       "  <thead>\n",
       "    <tr style=\"text-align: right;\">\n",
       "      <th></th>\n",
       "      <th>book_id</th>\n",
       "      <th>title</th>\n",
       "      <th>author</th>\n",
       "      <th>price</th>\n",
       "      <th>quantity</th>\n",
       "    </tr>\n",
       "  </thead>\n",
       "  <tbody>\n",
       "    <tr>\n",
       "      <th>0</th>\n",
       "      <td>1</td>\n",
       "      <td>The Great Gatsby</td>\n",
       "      <td>F. Scott Fitzgerald</td>\n",
       "      <td>10.99</td>\n",
       "      <td>3</td>\n",
       "    </tr>\n",
       "    <tr>\n",
       "      <th>1</th>\n",
       "      <td>2</td>\n",
       "      <td>To Kill a Mockingbird</td>\n",
       "      <td>Harper Lee</td>\n",
       "      <td>7.99</td>\n",
       "      <td>5</td>\n",
       "    </tr>\n",
       "    <tr>\n",
       "      <th>2</th>\n",
       "      <td>3</td>\n",
       "      <td>1984</td>\n",
       "      <td>George Orwell</td>\n",
       "      <td>8.99</td>\n",
       "      <td>2</td>\n",
       "    </tr>\n",
       "    <tr>\n",
       "      <th>3</th>\n",
       "      <td>4</td>\n",
       "      <td>Pride and Prejudice</td>\n",
       "      <td>Jane Austen</td>\n",
       "      <td>6.99</td>\n",
       "      <td>4</td>\n",
       "    </tr>\n",
       "    <tr>\n",
       "      <th>4</th>\n",
       "      <td>5</td>\n",
       "      <td>The Catcher in the Rye</td>\n",
       "      <td>J.D. Salinger</td>\n",
       "      <td>9.99</td>\n",
       "      <td>1</td>\n",
       "    </tr>\n",
       "  </tbody>\n",
       "</table>\n",
       "</div>"
      ],
      "text/plain": [
       "   book_id                   title               author  price  quantity\n",
       "0        1        The Great Gatsby  F. Scott Fitzgerald  10.99         3\n",
       "1        2   To Kill a Mockingbird           Harper Lee   7.99         5\n",
       "2        3                    1984        George Orwell   8.99         2\n",
       "3        4     Pride and Prejudice          Jane Austen   6.99         4\n",
       "4        5  The Catcher in the Rye        J.D. Salinger   9.99         1"
      ]
     },
     "execution_count": 176,
     "metadata": {},
     "output_type": "execute_result"
    }
   ],
   "source": [
    "pd.read_excel('files/books.xlsx').head() # read the file to check"
   ]
  },
  {
   "cell_type": "markdown",
   "id": "01ac13ad",
   "metadata": {},
   "source": [
    "Let´s save the `products_parse` `DataFrame` to a new Excel file called `products_parsed.xlsx`."
   ]
  },
  {
   "cell_type": "code",
   "execution_count": 177,
   "id": "d4b4a32e",
   "metadata": {},
   "outputs": [],
   "source": [
    "products_parsed_df = products_parse.to_excel('files/products_parsed.xlsx', index=False)"
   ]
  },
  {
   "cell_type": "code",
   "execution_count": 178,
   "id": "9c335e78",
   "metadata": {},
   "outputs": [
    {
     "data": {
      "text/html": [
       "<div>\n",
       "<style scoped>\n",
       "    .dataframe tbody tr th:only-of-type {\n",
       "        vertical-align: middle;\n",
       "    }\n",
       "\n",
       "    .dataframe tbody tr th {\n",
       "        vertical-align: top;\n",
       "    }\n",
       "\n",
       "    .dataframe thead th {\n",
       "        text-align: right;\n",
       "    }\n",
       "</style>\n",
       "<table border=\"1\" class=\"dataframe\">\n",
       "  <thead>\n",
       "    <tr style=\"text-align: right;\">\n",
       "      <th></th>\n",
       "      <th>price</th>\n",
       "      <th>brand</th>\n",
       "      <th>name</th>\n",
       "    </tr>\n",
       "    <tr>\n",
       "      <th>merchant_id</th>\n",
       "      <th></th>\n",
       "      <th></th>\n",
       "      <th></th>\n",
       "    </tr>\n",
       "  </thead>\n",
       "  <tbody>\n",
       "    <tr>\n",
       "      <th>1001</th>\n",
       "      <td>104.99</td>\n",
       "      <td>Sanus</td>\n",
       "      <td>Sanus VLF410B1 10-Inch Super Slim Full-Motion ...</td>\n",
       "    </tr>\n",
       "    <tr>\n",
       "      <th>1002</th>\n",
       "      <td>69.00</td>\n",
       "      <td>Boytone</td>\n",
       "      <td>Boytone - 2500W 2.1-Ch. Home Theater System - ...</td>\n",
       "    </tr>\n",
       "    <tr>\n",
       "      <th>1001</th>\n",
       "      <td>23.99</td>\n",
       "      <td>DENAQ</td>\n",
       "      <td>DENAQ - AC Adapter for TOSHIBA SATELLITE</td>\n",
       "    </tr>\n",
       "    <tr>\n",
       "      <th>1001</th>\n",
       "      <td>290.99</td>\n",
       "      <td>DreamWave</td>\n",
       "      <td>DreamWave - Tremor Portable Bluetooth Speaker ...</td>\n",
       "    </tr>\n",
       "    <tr>\n",
       "      <th>1004</th>\n",
       "      <td>244.01</td>\n",
       "      <td>Yamaha</td>\n",
       "      <td>NS-SP1800BL 5.1-Channel Home Theater System (B...</td>\n",
       "    </tr>\n",
       "  </tbody>\n",
       "</table>\n",
       "</div>"
      ],
      "text/plain": [
       "              price      brand  \\\n",
       "merchant_id                      \n",
       "1001         104.99      Sanus   \n",
       "1002          69.00    Boytone   \n",
       "1001          23.99      DENAQ   \n",
       "1001         290.99  DreamWave   \n",
       "1004         244.01     Yamaha   \n",
       "\n",
       "                                                          name  \n",
       "merchant_id                                                     \n",
       "1001         Sanus VLF410B1 10-Inch Super Slim Full-Motion ...  \n",
       "1002         Boytone - 2500W 2.1-Ch. Home Theater System - ...  \n",
       "1001                  DENAQ - AC Adapter for TOSHIBA SATELLITE  \n",
       "1001         DreamWave - Tremor Portable Bluetooth Speaker ...  \n",
       "1004         NS-SP1800BL 5.1-Channel Home Theater System (B...  "
      ]
     },
     "execution_count": 178,
     "metadata": {},
     "output_type": "execute_result"
    }
   ],
   "source": [
    "pd.read_excel('files/products_parsed.xlsx').set_index('merchant_id').head() # read the file to check"
   ]
  },
  {
   "cell_type": "markdown",
   "id": "ebcf0b52",
   "metadata": {},
   "source": [
    "---"
   ]
  },
  {
   "attachments": {
    "image-2.png": {
     "image/png": "[encoded data removed]"
    }
   },
   "cell_type": "markdown",
   "id": "b2530571",
   "metadata": {},
   "source": [
    "### **Positioning Data with `startrow` and `startcol`**\n",
    "\n",
    "Suppose we wanted to insert the our data into the spreadsheet file in a position somewhere other than the top-left corner.\n",
    "\n",
    "We can shift where the `to_excel` method writes the data by using `startrow` to set the cell after which the first row will be printed, and `startcol` to set which cell after which the first column will be printed.\n",
    "\n",
    "![image-2.png](attachment:image-2.png)"
   ]
  },
  {
   "cell_type": "code",
   "execution_count": 179,
   "id": "5d60905c",
   "metadata": {},
   "outputs": [],
   "source": [
    "books_df.to_excel('files/books.xlsx', sheet_name=\"books\", startrow=2, startcol=4) "
   ]
  },
  {
   "attachments": {
    "image.png": {
     "image/png": "[encoded data removed]"
    }
   },
   "cell_type": "markdown",
   "id": "9921cd15",
   "metadata": {},
   "source": [
    "![image.png](attachment:image.png)"
   ]
  },
  {
   "cell_type": "markdown",
   "id": "c73ab95e",
   "metadata": {},
   "source": [
    "The `startrow` and `startcol` parameters are both zero-indexed, so the first row and column are 0."
   ]
  },
  {
   "cell_type": "markdown",
   "id": "5e98523f",
   "metadata": {},
   "source": [
    "---"
   ]
  },
  {
   "cell_type": "markdown",
   "id": "38995f76",
   "metadata": {},
   "source": [
    "### **Saving multiple sheets**\n",
    "\n",
    "If we wanted to write a single `DataFrame` to a single sheet with default formatting then we are done. However, if we want to write multiple sheets and/or multiple `DataFrames`, then we will need to create an `ExcelWriter` object.\n",
    "\n",
    "The `ExcelWriter` object is included in the Pandas module and is used to open Excel files and handle write operations. This object behaves almost exactly like the vanilla Python open object that we used on previous courses and can be used within a `with` block."
   ]
  },
  {
   "cell_type": "code",
   "execution_count": 180,
   "id": "b7aa094a",
   "metadata": {},
   "outputs": [],
   "source": [
    "writer = pd.ExcelWriter('files/books.xlsx')"
   ]
  },
  {
   "cell_type": "code",
   "execution_count": 181,
   "id": "77259b54",
   "metadata": {},
   "outputs": [
    {
     "data": {
      "text/plain": [
       "<pandas.io.excel._openpyxl.OpenpyxlWriter at 0x1b3aad97e90>"
      ]
     },
     "execution_count": 181,
     "metadata": {},
     "output_type": "execute_result"
    }
   ],
   "source": [
    "writer"
   ]
  },
  {
   "cell_type": "markdown",
   "id": "3db240ee",
   "metadata": {},
   "source": [
    "Instead of including the file pathname in the `to_excel` call, we will use the `ExcelWriter` object writer instead."
   ]
  },
  {
   "cell_type": "code",
   "execution_count": 182,
   "id": "79c4ba27",
   "metadata": {},
   "outputs": [],
   "source": [
    "with writer:\n",
    "    books_df.to_excel(writer, sheet_name='books')"
   ]
  },
  {
   "cell_type": "code",
   "execution_count": 183,
   "id": "c29f53d1",
   "metadata": {},
   "outputs": [
    {
     "data": {
      "text/html": [
       "<div>\n",
       "<style scoped>\n",
       "    .dataframe tbody tr th:only-of-type {\n",
       "        vertical-align: middle;\n",
       "    }\n",
       "\n",
       "    .dataframe tbody tr th {\n",
       "        vertical-align: top;\n",
       "    }\n",
       "\n",
       "    .dataframe thead th {\n",
       "        text-align: right;\n",
       "    }\n",
       "</style>\n",
       "<table border=\"1\" class=\"dataframe\">\n",
       "  <thead>\n",
       "    <tr style=\"text-align: right;\">\n",
       "      <th></th>\n",
       "      <th>book_id</th>\n",
       "      <th>title</th>\n",
       "      <th>author</th>\n",
       "      <th>price</th>\n",
       "      <th>quantity</th>\n",
       "    </tr>\n",
       "  </thead>\n",
       "  <tbody>\n",
       "    <tr>\n",
       "      <th>0</th>\n",
       "      <td>1</td>\n",
       "      <td>The Great Gatsby</td>\n",
       "      <td>F. Scott Fitzgerald</td>\n",
       "      <td>10.99</td>\n",
       "      <td>3</td>\n",
       "    </tr>\n",
       "    <tr>\n",
       "      <th>1</th>\n",
       "      <td>2</td>\n",
       "      <td>To Kill a Mockingbird</td>\n",
       "      <td>Harper Lee</td>\n",
       "      <td>7.99</td>\n",
       "      <td>5</td>\n",
       "    </tr>\n",
       "    <tr>\n",
       "      <th>2</th>\n",
       "      <td>3</td>\n",
       "      <td>1984</td>\n",
       "      <td>George Orwell</td>\n",
       "      <td>8.99</td>\n",
       "      <td>2</td>\n",
       "    </tr>\n",
       "    <tr>\n",
       "      <th>3</th>\n",
       "      <td>4</td>\n",
       "      <td>Pride and Prejudice</td>\n",
       "      <td>Jane Austen</td>\n",
       "      <td>6.99</td>\n",
       "      <td>4</td>\n",
       "    </tr>\n",
       "    <tr>\n",
       "      <th>4</th>\n",
       "      <td>5</td>\n",
       "      <td>The Catcher in the Rye</td>\n",
       "      <td>J.D. Salinger</td>\n",
       "      <td>9.99</td>\n",
       "      <td>1</td>\n",
       "    </tr>\n",
       "  </tbody>\n",
       "</table>\n",
       "</div>"
      ],
      "text/plain": [
       "   book_id                   title               author  price  quantity\n",
       "0        1        The Great Gatsby  F. Scott Fitzgerald  10.99         3\n",
       "1        2   To Kill a Mockingbird           Harper Lee   7.99         5\n",
       "2        3                    1984        George Orwell   8.99         2\n",
       "3        4     Pride and Prejudice          Jane Austen   6.99         4\n",
       "4        5  The Catcher in the Rye        J.D. Salinger   9.99         1"
      ]
     },
     "execution_count": 183,
     "metadata": {},
     "output_type": "execute_result"
    }
   ],
   "source": [
    "pd.read_excel('files/books.xlsx', sheet_name='books').head()"
   ]
  },
  {
   "cell_type": "markdown",
   "id": "cc9d82ec",
   "metadata": {},
   "source": [
    "We can now add another `Merchants` sheet simply using the `writer` object:"
   ]
  },
  {
   "cell_type": "code",
   "execution_count": 186,
   "id": "4d5e6649",
   "metadata": {},
   "outputs": [],
   "source": [
    "writer = pd.ExcelWriter('files/products.xlsx')"
   ]
  },
  {
   "cell_type": "code",
   "execution_count": 187,
   "id": "b727baa4",
   "metadata": {},
   "outputs": [
    {
     "data": {
      "text/plain": [
       "<pandas.io.excel._openpyxl.OpenpyxlWriter at 0x1b3a9d5a3f0>"
      ]
     },
     "execution_count": 187,
     "metadata": {},
     "output_type": "execute_result"
    }
   ],
   "source": [
    "writer"
   ]
  },
  {
   "cell_type": "code",
   "execution_count": 188,
   "id": "65bd5a7a",
   "metadata": {},
   "outputs": [],
   "source": [
    "with writer:\n",
    "    merchants_sheet.to_excel(writer, sheet_name='Merchants')"
   ]
  },
  {
   "cell_type": "code",
   "execution_count": 191,
   "id": "b1e17217",
   "metadata": {},
   "outputs": [
    {
     "data": {
      "text/html": [
       "<div>\n",
       "<style scoped>\n",
       "    .dataframe tbody tr th:only-of-type {\n",
       "        vertical-align: middle;\n",
       "    }\n",
       "\n",
       "    .dataframe tbody tr th {\n",
       "        vertical-align: top;\n",
       "    }\n",
       "\n",
       "    .dataframe thead th {\n",
       "        text-align: right;\n",
       "    }\n",
       "</style>\n",
       "<table border=\"1\" class=\"dataframe\">\n",
       "  <thead>\n",
       "    <tr style=\"text-align: right;\">\n",
       "      <th></th>\n",
       "      <th>merchant_id</th>\n",
       "      <th>merchant</th>\n",
       "    </tr>\n",
       "  </thead>\n",
       "  <tbody>\n",
       "    <tr>\n",
       "      <th>0</th>\n",
       "      <td>1001</td>\n",
       "      <td>Bestbuy.com</td>\n",
       "    </tr>\n",
       "    <tr>\n",
       "      <th>1</th>\n",
       "      <td>1002</td>\n",
       "      <td>Walmart.com</td>\n",
       "    </tr>\n",
       "    <tr>\n",
       "      <th>2</th>\n",
       "      <td>1003</td>\n",
       "      <td>Bestbuy.com</td>\n",
       "    </tr>\n",
       "    <tr>\n",
       "      <th>3</th>\n",
       "      <td>1004</td>\n",
       "      <td>Growkart</td>\n",
       "    </tr>\n",
       "    <tr>\n",
       "      <th>4</th>\n",
       "      <td>1005</td>\n",
       "      <td>bhphotovideo.com</td>\n",
       "    </tr>\n",
       "  </tbody>\n",
       "</table>\n",
       "</div>"
      ],
      "text/plain": [
       "   merchant_id          merchant\n",
       "0         1001       Bestbuy.com\n",
       "1         1002       Walmart.com\n",
       "2         1003       Bestbuy.com\n",
       "3         1004          Growkart\n",
       "4         1005  bhphotovideo.com"
      ]
     },
     "execution_count": 191,
     "metadata": {},
     "output_type": "execute_result"
    }
   ],
   "source": [
    "pd.read_excel('files/products.xlsx', sheet_name='Merchants').head()"
   ]
  }
 ],
 "metadata": {
  "kernelspec": {
   "display_name": "base",
   "language": "python",
   "name": "python3"
  },
  "language_info": {
   "codemirror_mode": {
    "name": "ipython",
    "version": 3
   },
   "file_extension": ".py",
   "mimetype": "text/x-python",
   "name": "python",
   "nbconvert_exporter": "python",
   "pygments_lexer": "ipython3",
   "version": "3.12.7"
  }
 },
 "nbformat": 4,
 "nbformat_minor": 5
}
